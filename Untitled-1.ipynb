{
 "cells": [
  {
   "cell_type": "code",
   "execution_count": null,
   "metadata": {},
   "outputs": [],
   "source": [
    "import zipfile\n",
    "import pandas as pd"
   ]
  },
  {
   "cell_type": "code",
   "execution_count": null,
   "metadata": {},
   "outputs": [],
   "source": [
    "with zipfile.ZipFile(\"data/winemag-data-130k-v2.csv.zip\",\"r\") as zip_ref:\n",
    "    zip_ref.extractall(\"data/\")"
   ]
  },
  {
   "cell_type": "code",
   "execution_count": null,
   "metadata": {},
   "outputs": [],
   "source": [
    "df = pd.read_csv(\"data/winemag-data-130k-v2.csv\")"
   ]
  },
  {
   "cell_type": "code",
   "execution_count": null,
   "metadata": {},
   "outputs": [],
   "source": [
    "#practice grouping\n",
    "df.groupby('country').agg({'title':'count','points':'mean'})\n",
    "print(df)"
   ]
  },
  {
   "cell_type": "code",
   "execution_count": 13,
   "metadata": {},
   "outputs": [],
   "source": [
    "#practice summary and output\n",
    "df.groupby('country').agg({'title':'count','points':'mean'}).to_csv(\"data/reviews-per-country.csv\")"
   ]
  },
  {
   "cell_type": "code",
   "execution_count": null,
   "metadata": {},
   "outputs": [],
   "source": [
    "#Complete code - not completely working the way I want.\n",
    "import zipfile\n",
    "import pandas as pd\n",
    "\n",
    "with zipfile.ZipFile(\"data/winemag-data-130k-v2.csv.zip\",\"r\") as zip_ref:\n",
    "    zip_ref.extractall(\"data/\")\n",
    "\n",
    "df = pd.read_csv(\"data/winemag-data-130k-v2.csv\")\n",
    "df.groupby('country').agg({'title':'count','points':'mean'})\n",
    "df['points']=df['points'].round(1)\n",
    "df.to_csv(\"data/reviews-per-country.csv\")"
   ]
  },
  {
   "cell_type": "code",
   "execution_count": 14,
   "metadata": {},
   "outputs": [],
   "source": [
    "#Complete code - works as intended.\n",
    "import zipfile\n",
    "import pandas as pd\n",
    "\n",
    "with zipfile.ZipFile(\"data/winemag-data-130k-v2.csv.zip\", \"r\") as zip_ref:\n",
    "    zip_ref.extractall(\"data/\")\n",
    "\n",
    "df = pd.read_csv(\"data/winemag-data-130k-v2.csv\")\n",
    "temp_df = df.groupby('country').agg({'title': 'count', 'points': 'mean'})\n",
    "temp_df['points'] = temp_df['points'].round(1)\n",
    "temp_df.to_csv(\"data/reviews-per-country.csv\")\n"
   ]
  }
 ],
 "metadata": {
  "kernelspec": {
   "display_name": "Python 3",
   "language": "python",
   "name": "python3"
  },
  "language_info": {
   "codemirror_mode": {
    "name": "ipython",
    "version": 3
   },
   "file_extension": ".py",
   "mimetype": "text/x-python",
   "name": "python",
   "nbconvert_exporter": "python",
   "pygments_lexer": "ipython3",
   "version": "3.11.2"
  }
 },
 "nbformat": 4,
 "nbformat_minor": 2
}
